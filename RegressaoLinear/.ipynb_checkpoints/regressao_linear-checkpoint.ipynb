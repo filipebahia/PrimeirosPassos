{
 "cells": [
  {
   "cell_type": "code",
   "execution_count": 1,
   "metadata": {},
   "outputs": [],
   "source": [
    "# Transformando os dados para a mesma escala (entre 0 e 1)\n",
    "\n",
    "# Import dos módulos\n",
    "import pandas as pd\n",
    "from pandas import read_csv\n",
    "from sklearn.preprocessing import MinMaxScaler\n",
    "import scipy\n",
    "from scipy.optimize import curve_fit\n",
    "import numpy as np\n",
    "\n",
    "\n",
    "\n",
    "\n",
    "\n",
    "# Gerando a nova escala (normalizando os dados)\n",
    "#scaler = MinMaxScaler(feature_range = (0, 1))\n",
    "#rescaledX1 = scaler.fit_transform(X1)\n",
    "#rescaledX2 = scaler.fit_transform(X2)\n",
    "\n",
    "#import matplotlib.pyplot as plt\n",
    "# Por se tratar de um conjunto de gráficos menores, pode ser mais interessante gerar os gráficos em janela separada\n",
    "#%matplotlib inline\n",
    "#teste = pd.DataFrame(rescaledX1)\n",
    "#teste.hist()\n",
    "#plt.show()\n",
    "#rescaledX2"
   ]
  },
  {
   "cell_type": "code",
   "execution_count": 2,
   "metadata": {},
   "outputs": [],
   "source": [
    "# Carregando os dados\n",
    "arquivo = 'dados.csv'\n",
    "colunas = ['Idade', 'Salário']\n",
    "dados = read_csv(arquivo, names = colunas, sep = \";\", skiprows=1)#\n",
    "idade = dados['Idade'].values\n",
    "salario = dados['Salário'].values"
   ]
  },
  {
   "cell_type": "code",
   "execution_count": 3,
   "metadata": {},
   "outputs": [],
   "source": [
    "def equacaoLinear(x, a, b):\n",
    "    return a * x + b"
   ]
  },
  {
   "cell_type": "code",
   "execution_count": 4,
   "metadata": {},
   "outputs": [],
   "source": [
    "parametrosIniciais = [1.0 , 1.0]"
   ]
  },
  {
   "cell_type": "code",
   "execution_count": 5,
   "metadata": {},
   "outputs": [],
   "source": [
    "parametrosOtimizados, pcov = curve_fit(equacaoLinear, idade, salario, parametrosIniciais)"
   ]
  },
  {
   "cell_type": "code",
   "execution_count": 6,
   "metadata": {},
   "outputs": [],
   "source": [
    "previsao = equacaoLinear(idade, *parametrosOtimizados)"
   ]
  },
  {
   "cell_type": "code",
   "execution_count": 7,
   "metadata": {},
   "outputs": [
    {
     "name": "stdout",
     "output_type": "stream",
     "text": [
      "[ 2141.93448327 -2614.33755006   642.70458328   796.31378328\n",
      " -4293.80498339 -2113.56745005  1232.05324995  1193.65094995\n",
      "  -934.87011672  3949.92298328]\n"
     ]
    }
   ],
   "source": [
    "erroAbs = previsao - salario\n",
    "print(erroAbs)"
   ]
  },
  {
   "cell_type": "code",
   "execution_count": 9,
   "metadata": {},
   "outputs": [
    {
     "name": "stdout",
     "output_type": "stream",
     "text": [
      "SE:  [ 4587883.33064101  6834760.82563804   413069.18137435   634115.64144357\n",
      " 18436761.23538558  4467167.3659006   1517955.21070226  1424802.59030848\n",
      "   873982.13514337 15601891.57382987]\n",
      "MSE:  5479238.909036714\n"
     ]
    }
   ],
   "source": [
    "SE = np.square(erroAbs)\n",
    "MSE = np.mean(SE)\n",
    "print('SE: ', SE)\n",
    "print('MSE: ', MSE)"
   ]
  },
  {
   "cell_type": "code",
   "execution_count": 12,
   "metadata": {},
   "outputs": [
    {
     "name": "stdout",
     "output_type": "stream",
     "text": [
      "Coeficiente de determinação:  0.9846300347582353\n"
     ]
    }
   ],
   "source": [
    "R2 = 1.0 - (np.var(erroAbs)/np.var(salario))\n",
    "print('Coeficiente de determinação: ', R2)"
   ]
  },
  {
   "cell_type": "code",
   "execution_count": 15,
   "metadata": {},
   "outputs": [
    {
     "name": "stdout",
     "output_type": "stream",
     "text": [
      "y = 1320.5325666669085x -6627.651716729711\n"
     ]
    }
   ],
   "source": [
    "coef_ang = parametrosOtimizados[0] \n",
    "coef_lin = parametrosOtimizados[1]\n",
    "\n",
    "print('y = {}x {}'.format(coef_ang, coef_lin) )"
   ]
  },
  {
   "cell_type": "code",
   "execution_count": null,
   "metadata": {},
   "outputs": [],
   "source": []
  }
 ],
 "metadata": {
  "kernelspec": {
   "display_name": "Python 3",
   "language": "python",
   "name": "python3"
  },
  "language_info": {
   "codemirror_mode": {
    "name": "ipython",
    "version": 3
   },
   "file_extension": ".py",
   "mimetype": "text/x-python",
   "name": "python",
   "nbconvert_exporter": "python",
   "pygments_lexer": "ipython3",
   "version": "3.7.3"
  }
 },
 "nbformat": 4,
 "nbformat_minor": 2
}
